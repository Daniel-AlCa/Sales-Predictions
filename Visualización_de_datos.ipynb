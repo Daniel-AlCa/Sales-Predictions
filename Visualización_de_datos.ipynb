{
  "nbformat": 4,
  "nbformat_minor": 0,
  "metadata": {
    "colab": {
      "provenance": [],
      "mount_file_id": "1RgdilangCDpxQkbDRff3rM90Zt-nfXOa",
      "authorship_tag": "ABX9TyN7gxKrHksg7hSeV7H8Dkbh",
      "include_colab_link": true
    },
    "kernelspec": {
      "name": "python3",
      "display_name": "Python 3"
    },
    "language_info": {
      "name": "python"
    }
  },
  "cells": [
    {
      "cell_type": "markdown",
      "metadata": {
        "id": "view-in-github",
        "colab_type": "text"
      },
      "source": [
        "<a href=\"https://colab.research.google.com/github/Daniel-AlCa/Sales-Predictions/blob/main/Visualizaci%C3%B3n_de_datos.ipynb\" target=\"_parent\"><img src=\"https://colab.research.google.com/assets/colab-badge.svg\" alt=\"Open In Colab\"/></a>"
      ]
    },
    {
      "cell_type": "code",
      "execution_count": null,
      "metadata": {
        "colab": {
          "base_uri": "https://localhost:8080/",
          "height": 278
        },
        "id": "XMbaE639STLB",
        "outputId": "add4169c-5ed1-4595-b17b-7684c6b53fc9"
      },
      "outputs": [
        {
          "output_type": "execute_result",
          "data": {
            "text/plain": [
              "    Country Name Country Code  \\\n",
              "186         Perú          PER   \n",
              "\n",
              "                                        Indicator Name  Indicator Code  \\\n",
              "186  Consumo de energía renovable (% del consumo to...  EG.FEC.RNEW.ZS   \n",
              "\n",
              "          1990       1991       1992       1993       1994       1995  ...  \\\n",
              "186  39.425828  39.913114  37.307771  37.079262  35.934976  33.282985  ...   \n",
              "\n",
              "      2010   2011  2012   2013   2014   2015  2016   2017   2018   2019  \n",
              "186  32.17  30.63  30.8  28.35  28.56  27.43  27.2  27.59  27.89  27.12  \n",
              "\n",
              "[1 rows x 34 columns]"
            ],
            "text/html": [
              "\n",
              "  <div id=\"df-0900b2c8-664b-4f8c-833f-be7577c17ce1\">\n",
              "    <div class=\"colab-df-container\">\n",
              "      <div>\n",
              "<style scoped>\n",
              "    .dataframe tbody tr th:only-of-type {\n",
              "        vertical-align: middle;\n",
              "    }\n",
              "\n",
              "    .dataframe tbody tr th {\n",
              "        vertical-align: top;\n",
              "    }\n",
              "\n",
              "    .dataframe thead th {\n",
              "        text-align: right;\n",
              "    }\n",
              "</style>\n",
              "<table border=\"1\" class=\"dataframe\">\n",
              "  <thead>\n",
              "    <tr style=\"text-align: right;\">\n",
              "      <th></th>\n",
              "      <th>Country Name</th>\n",
              "      <th>Country Code</th>\n",
              "      <th>Indicator Name</th>\n",
              "      <th>Indicator Code</th>\n",
              "      <th>1990</th>\n",
              "      <th>1991</th>\n",
              "      <th>1992</th>\n",
              "      <th>1993</th>\n",
              "      <th>1994</th>\n",
              "      <th>1995</th>\n",
              "      <th>...</th>\n",
              "      <th>2010</th>\n",
              "      <th>2011</th>\n",
              "      <th>2012</th>\n",
              "      <th>2013</th>\n",
              "      <th>2014</th>\n",
              "      <th>2015</th>\n",
              "      <th>2016</th>\n",
              "      <th>2017</th>\n",
              "      <th>2018</th>\n",
              "      <th>2019</th>\n",
              "    </tr>\n",
              "  </thead>\n",
              "  <tbody>\n",
              "    <tr>\n",
              "      <th>186</th>\n",
              "      <td>Perú</td>\n",
              "      <td>PER</td>\n",
              "      <td>Consumo de energía renovable (% del consumo to...</td>\n",
              "      <td>EG.FEC.RNEW.ZS</td>\n",
              "      <td>39.425828</td>\n",
              "      <td>39.913114</td>\n",
              "      <td>37.307771</td>\n",
              "      <td>37.079262</td>\n",
              "      <td>35.934976</td>\n",
              "      <td>33.282985</td>\n",
              "      <td>...</td>\n",
              "      <td>32.17</td>\n",
              "      <td>30.63</td>\n",
              "      <td>30.8</td>\n",
              "      <td>28.35</td>\n",
              "      <td>28.56</td>\n",
              "      <td>27.43</td>\n",
              "      <td>27.2</td>\n",
              "      <td>27.59</td>\n",
              "      <td>27.89</td>\n",
              "      <td>27.12</td>\n",
              "    </tr>\n",
              "  </tbody>\n",
              "</table>\n",
              "<p>1 rows × 34 columns</p>\n",
              "</div>\n",
              "      <button class=\"colab-df-convert\" onclick=\"convertToInteractive('df-0900b2c8-664b-4f8c-833f-be7577c17ce1')\"\n",
              "              title=\"Convert this dataframe to an interactive table.\"\n",
              "              style=\"display:none;\">\n",
              "        \n",
              "  <svg xmlns=\"http://www.w3.org/2000/svg\" height=\"24px\"viewBox=\"0 0 24 24\"\n",
              "       width=\"24px\">\n",
              "    <path d=\"M0 0h24v24H0V0z\" fill=\"none\"/>\n",
              "    <path d=\"M18.56 5.44l.94 2.06.94-2.06 2.06-.94-2.06-.94-.94-2.06-.94 2.06-2.06.94zm-11 1L8.5 8.5l.94-2.06 2.06-.94-2.06-.94L8.5 2.5l-.94 2.06-2.06.94zm10 10l.94 2.06.94-2.06 2.06-.94-2.06-.94-.94-2.06-.94 2.06-2.06.94z\"/><path d=\"M17.41 7.96l-1.37-1.37c-.4-.4-.92-.59-1.43-.59-.52 0-1.04.2-1.43.59L10.3 9.45l-7.72 7.72c-.78.78-.78 2.05 0 2.83L4 21.41c.39.39.9.59 1.41.59.51 0 1.02-.2 1.41-.59l7.78-7.78 2.81-2.81c.8-.78.8-2.07 0-2.86zM5.41 20L4 18.59l7.72-7.72 1.47 1.35L5.41 20z\"/>\n",
              "  </svg>\n",
              "      </button>\n",
              "      \n",
              "  <style>\n",
              "    .colab-df-container {\n",
              "      display:flex;\n",
              "      flex-wrap:wrap;\n",
              "      gap: 12px;\n",
              "    }\n",
              "\n",
              "    .colab-df-convert {\n",
              "      background-color: #E8F0FE;\n",
              "      border: none;\n",
              "      border-radius: 50%;\n",
              "      cursor: pointer;\n",
              "      display: none;\n",
              "      fill: #1967D2;\n",
              "      height: 32px;\n",
              "      padding: 0 0 0 0;\n",
              "      width: 32px;\n",
              "    }\n",
              "\n",
              "    .colab-df-convert:hover {\n",
              "      background-color: #E2EBFA;\n",
              "      box-shadow: 0px 1px 2px rgba(60, 64, 67, 0.3), 0px 1px 3px 1px rgba(60, 64, 67, 0.15);\n",
              "      fill: #174EA6;\n",
              "    }\n",
              "\n",
              "    [theme=dark] .colab-df-convert {\n",
              "      background-color: #3B4455;\n",
              "      fill: #D2E3FC;\n",
              "    }\n",
              "\n",
              "    [theme=dark] .colab-df-convert:hover {\n",
              "      background-color: #434B5C;\n",
              "      box-shadow: 0px 1px 3px 1px rgba(0, 0, 0, 0.15);\n",
              "      filter: drop-shadow(0px 1px 2px rgba(0, 0, 0, 0.3));\n",
              "      fill: #FFFFFF;\n",
              "    }\n",
              "  </style>\n",
              "\n",
              "      <script>\n",
              "        const buttonEl =\n",
              "          document.querySelector('#df-0900b2c8-664b-4f8c-833f-be7577c17ce1 button.colab-df-convert');\n",
              "        buttonEl.style.display =\n",
              "          google.colab.kernel.accessAllowed ? 'block' : 'none';\n",
              "\n",
              "        async function convertToInteractive(key) {\n",
              "          const element = document.querySelector('#df-0900b2c8-664b-4f8c-833f-be7577c17ce1');\n",
              "          const dataTable =\n",
              "            await google.colab.kernel.invokeFunction('convertToInteractive',\n",
              "                                                     [key], {});\n",
              "          if (!dataTable) return;\n",
              "\n",
              "          const docLinkHtml = 'Like what you see? Visit the ' +\n",
              "            '<a target=\"_blank\" href=https://colab.research.google.com/notebooks/data_table.ipynb>data table notebook</a>'\n",
              "            + ' to learn more about interactive tables.';\n",
              "          element.innerHTML = '';\n",
              "          dataTable['output_type'] = 'display_data';\n",
              "          await google.colab.output.renderOutput(dataTable, element);\n",
              "          const docLink = document.createElement('div');\n",
              "          docLink.innerHTML = docLinkHtml;\n",
              "          element.appendChild(docLink);\n",
              "        }\n",
              "      </script>\n",
              "    </div>\n",
              "  </div>\n",
              "  "
            ]
          },
          "metadata": {},
          "execution_count": 61
        }
      ],
      "source": [
        "import matplotlib.pyplot as plt\n",
        "import seaborn as sns\n",
        "import pandas as pd\n",
        "import numpy as np\n",
        "\n",
        "filename='/content/drive/MyDrive/Coding Dojo/Codificación de Coding Dojo/Semana3/API_EG.FEC.RNEW.ZS_DS2_es_csv_v2_4915511.csv'\n",
        "df=pd.read_csv(filename,header=2)\n",
        "f1=df['Country Name']=='Perú'\n",
        "dfp=df.loc[f1,:]\n",
        "for x in range(1960,1990,1):\n",
        "  dfp=dfp.drop([str(x)], axis=1)\n",
        "\n",
        "dfp=dfp.drop(['2020','2021','Unnamed: 66'],axis=1)\n",
        "dfp"
      ]
    },
    {
      "cell_type": "code",
      "source": [
        "Years=[]\n",
        "for x in range(1990,2020,1):\n",
        "  Years.append(x)\n",
        "Years\n",
        "Values=[]\n",
        "for x in range(1990,2020,1):\n",
        "  e=round(dfp[str(x)][186],2)\n",
        "  Values.append(e)\n",
        "\n",
        "dfg=pd.DataFrame()\n",
        "dfg['Year']=Years\n",
        "dfg['Percentage of Renewable Energy']=Values\n",
        "\n",
        "\n"
      ],
      "metadata": {
        "id": "fOfH8l12l0mX"
      },
      "execution_count": null,
      "outputs": []
    },
    {
      "cell_type": "code",
      "source": [
        "globa=[]\n",
        "for x in range(1990,2020,1):\n",
        "  p=round(df[str(x)].mean(),2)\n",
        "  globa.append(p)\n",
        "dfg['Global Average']=globa\n"
      ],
      "metadata": {
        "id": "xjR7S--WyNPC"
      },
      "execution_count": null,
      "outputs": []
    },
    {
      "cell_type": "code",
      "source": [
        "plt.plot(dfg['Year'],dfg['Percentage of Renewable Energy'],\"bH-\",label=\"Peruvian %\");\n",
        "plt.plot(dfg['Year'],dfg['Global Average'],\"c.:\",label=\"Global %\");\n",
        "plt.ylabel(\"Percentage of Renewable Energy\",fontsize=13)\n",
        "plt.xlabel(\"Years\",fontsize=13)\n",
        "plt.title(\"Peru vs Globe: Percentage of Renewable Energy Use\",fontsize=15);\n",
        "plt.style.use('ggplot');\n",
        "plt.legend(fontsize=10);"
      ],
      "metadata": {
        "colab": {
          "base_uri": "https://localhost:8080/",
          "height": 300
        },
        "id": "0wXnvdptqxn1",
        "outputId": "5053a43d-1b7d-4093-e130-f2d3ac48ab64"
      },
      "execution_count": null,
      "outputs": [
        {
          "output_type": "display_data",
          "data": {
            "text/plain": [
              "<Figure size 432x288 with 1 Axes>"
            ],
            "image/png": "[encoded data removed]"
          },
          "metadata": {}
        }
      ]
    }
  ]
}